{
  "nbformat": 4,
  "nbformat_minor": 0,
  "metadata": {
    "colab": {
      "provenance": [],
      "gpuType": "T4"
    },
    "kernelspec": {
      "name": "python3",
      "display_name": "Python 3"
    },
    "accelerator": "GPU"
  },
  "cells": [
    {
      "cell_type": "code",
      "source": [
        "import os\n",
        "import numpy as np\n",
        "import tensorflow as tf\n",
        "\n",
        "from tensorflow.keras.preprocessing.image import load_img, img_to_array, ImageDataGenerator\n",
        "from tensorflow.keras.utils import to_categorical\n",
        "from tensorflow.keras.models import Sequential\n",
        "from tensorflow.keras.layers import Conv2D, MaxPooling2D, Flatten, Dense, Dropout\n",
        "from tensorflow.keras.losses import categorical_crossentropy\n",
        "from tensorflow.keras.optimizers import Adam, Adadelta"
      ],
      "metadata": {
        "id": "Y4YTBGmbDbuY"
      },
      "execution_count": 1,
      "outputs": []
    },
    {
      "cell_type": "code",
      "metadata": {
        "id": "zAH396OSE5FL",
        "colab": {
          "base_uri": "https://localhost:8080/"
        },
        "outputId": "0312bff6-fcea-4f68-fe62-e1fb9717c1aa"
      },
      "source": [
        "from google.colab import drive\n",
        "drive.mount('/content/drive', force_remount=True)\n",
        "\n",
        "!unzip -q '/content/drive/My Drive/train_small.zip' #newdata\n",
        "!unzip -q '/content/drive/My Drive/test_small.zip' #newtest\n",
        "!unzip -qq '/content/drive/My Drive/final_test_small.zip' -d /content/"
      ],
      "execution_count": 2,
      "outputs": [
        {
          "output_type": "stream",
          "name": "stdout",
          "text": [
            "Mounted at /content/drive\n"
          ]
        }
      ]
    },
    {
      "cell_type": "code",
      "metadata": {
        "id": "tJS1toIzQN-Q"
      },
      "source": [
        "num_classes = 37\n",
        "input_shape = (30, 30, 1)"
      ],
      "execution_count": 3,
      "outputs": []
    },
    {
      "cell_type": "code",
      "metadata": {
        "id": "fCOdJb1tEalK"
      },
      "source": [
        "def prep(dir):\n",
        "  filenames = os.listdir(dir)\n",
        "  labels = np.array([int(os.path.splitext(filename)[0][:2]) for filename in filenames])\n",
        "  labels = to_categorical(labels, num_classes)\n",
        "  data_paths = [os.path.join(dir, filename) for filename in filenames]\n",
        "  data = np.array([img_to_array(load_img(data_path, color_mode = \"grayscale\")) for data_path in data_paths])\n",
        "  return data, labels"
      ],
      "execution_count": 4,
      "outputs": []
    },
    {
      "cell_type": "code",
      "metadata": {
        "id": "QuO7aaRBIlja"
      },
      "source": [
        "train_data, train_labels = prep('train_small')\n",
        "validation_data, validation_labels = prep('test_small')\n",
        "test_data , test_labels = prep('final_test_small')"
      ],
      "execution_count": 5,
      "outputs": []
    },
    {
      "cell_type": "code",
      "source": [
        "print(f\"number of training samples are {train_data.shape}\")\n",
        "print(f\"number of validation samples are {validation_data.shape}\")\n",
        "print(f\"number of test samples are {test_data.shape}\")"
      ],
      "metadata": {
        "colab": {
          "base_uri": "https://localhost:8080/"
        },
        "id": "WyIx5rHyFSAQ",
        "outputId": "6786604e-aa01-4ff3-832e-42bb1c251b2e"
      },
      "execution_count": 6,
      "outputs": [
        {
          "output_type": "stream",
          "name": "stdout",
          "text": [
            "number of training samples are (1850, 30, 30, 1)\n",
            "number of validation samples are (37, 30, 30, 1)\n",
            "number of test samples are (37, 30, 30, 1)\n"
          ]
        }
      ]
    },
    {
      "cell_type": "code",
      "source": [
        "import numpy as np\n",
        "import tensorflow as tf\n",
        "from tensorflow.keras.preprocessing.image import ImageDataGenerator\n",
        "\n",
        "\n",
        "\n",
        "def aug(data, labels, factor):\n",
        "    # Define the data generator for augmentation\n",
        "    datagen = ImageDataGenerator(width_shift_range=0.1, height_shift_range=0.1, zoom_range=0.1)\n",
        "\n",
        "    # Create a flow from the data and labels\n",
        "    flow = datagen.flow(data, labels, batch_size=1)\n",
        "\n",
        "    # Initialize arrays for augmented data and labels\n",
        "    aug_data = np.zeros((data.shape[0] * factor, input_shape[0], input_shape[1], input_shape[2]), dtype='float32')\n",
        "    aug_labels = np.zeros((labels.shape[0] * factor, num_classes), dtype='float32')\n",
        "\n",
        "    # Generate augmented data\n",
        "    for i in range(data.shape[0] * factor):\n",
        "        batch = next(flow)  # Corrected to use `next()` function\n",
        "        aug_data[i] = batch[0]  # Augmented data\n",
        "        aug_labels[i] = batch[1]  # Corresponding labels\n",
        "\n",
        "    # Rescale the augmented data to [0, 1] range if needed\n",
        "    aug_data /= 255.0\n",
        "\n",
        "    return aug_data, aug_labels"
      ],
      "metadata": {
        "id": "GnGo8vI4qNo1"
      },
      "execution_count": 7,
      "outputs": []
    },
    {
      "cell_type": "code",
      "metadata": {
        "id": "i4yTZA2YSthj"
      },
      "source": [
        "aug_train_data, aug_train_labels = aug(train_data, train_labels, 100)\n",
        "aug_validation_data, aug_validation_labels = aug(validation_data, validation_labels, 10)\n",
        "aug_test_data , aug_test_labels = aug(test_data, test_labels, 20)"
      ],
      "execution_count": 8,
      "outputs": []
    },
    {
      "cell_type": "code",
      "source": [
        "print(f\"number of augmented training samples are {aug_train_data.shape}\")\n",
        "print(f\"number of augmented validation samples are {aug_validation_data.shape}\")\n",
        "print(f\"number of augmented test samples are {aug_test_data.shape}\")"
      ],
      "metadata": {
        "colab": {
          "base_uri": "https://localhost:8080/"
        },
        "id": "SzPHpXxmzO03",
        "outputId": "e3c927e6-f815-4b09-bede-eccca5ee6c48"
      },
      "execution_count": 9,
      "outputs": [
        {
          "output_type": "stream",
          "name": "stdout",
          "text": [
            "number of augmented training samples are (185000, 30, 30, 1)\n",
            "number of augmented validation samples are (370, 30, 30, 1)\n",
            "number of augmented test samples are (740, 30, 30, 1)\n"
          ]
        }
      ]
    },
    {
      "cell_type": "code",
      "source": [
        "import os\n",
        "import tensorflow as tf\n",
        "from tensorflow.keras.models import Sequential\n",
        "from tensorflow.keras.layers import Conv2D, MaxPooling2D, Dropout, Flatten, Dense\n",
        "from tensorflow.keras.optimizers import Adam\n",
        "\n",
        "# Define the model\n",
        "model = Sequential()\n",
        "model.add(Conv2D(32, kernel_size=(3, 3), activation='relu', input_shape=input_shape))\n",
        "model.add(Conv2D(64, (3, 3), activation='relu'))\n",
        "model.add(MaxPooling2D(pool_size=(2, 2)))\n",
        "model.add(Dropout(0.25))\n",
        "model.add(Flatten())\n",
        "model.add(Dense(128, activation='relu'))\n",
        "model.add(Dropout(0.5))\n",
        "model.add(Dense(num_classes, activation='softmax'))\n",
        "\n",
        "# Check for TPU availability and set up TPU strategy\n",
        "try:\n",
        "    tpu = tf.distribute.cluster_resolver.TPUClusterResolver.connect()\n",
        "    strategy = tf.distribute.TPUStrategy(tpu)\n",
        "    print('TPU found and connected')\n",
        "except:\n",
        "    strategy = tf.distribute.get_strategy()  # Use default strategy (CPU/GPU)\n",
        "    print('TPU not found, using default strategy')\n",
        "\n",
        "# Compile and train the model using the strategy\n",
        "with strategy.scope():\n",
        "    model.compile(\n",
        "        optimizer=Adam(),\n",
        "        loss='categorical_crossentropy',\n",
        "        metrics=['accuracy']\n",
        "    )\n"
      ],
      "metadata": {
        "colab": {
          "base_uri": "https://localhost:8080/"
        },
        "id": "Nw3W9PEAtd8_",
        "outputId": "d59fe60a-aa91-41a3-8cc1-214b98cdd584"
      },
      "execution_count": 10,
      "outputs": [
        {
          "output_type": "stream",
          "name": "stderr",
          "text": [
            "/usr/local/lib/python3.11/dist-packages/keras/src/layers/convolutional/base_conv.py:107: UserWarning: Do not pass an `input_shape`/`input_dim` argument to a layer. When using Sequential models, prefer using an `Input(shape)` object as the first layer in the model instead.\n",
            "  super().__init__(activity_regularizer=activity_regularizer, **kwargs)\n"
          ]
        },
        {
          "output_type": "stream",
          "name": "stdout",
          "text": [
            "TPU not found, using default strategy\n"
          ]
        }
      ]
    },
    {
      "cell_type": "code",
      "source": [
        "# Train the model\n",
        "history = model.fit(\n",
        "    aug_train_data, aug_train_labels,\n",
        "    batch_size=128,\n",
        "    epochs=100,\n",
        "    verbose=1,\n",
        "    validation_data=(aug_validation_data, aug_validation_labels)\n",
        ")"
      ],
      "metadata": {
        "colab": {
          "base_uri": "https://localhost:8080/"
        },
        "id": "ihALHvy6aj7F",
        "outputId": "9bf39ad1-0cca-4e70-cbbe-1df9610e35cc"
      },
      "execution_count": 11,
      "outputs": [
        {
          "output_type": "stream",
          "name": "stdout",
          "text": [
            "Epoch 1/100\n",
            "\u001b[1m1446/1446\u001b[0m \u001b[32m━━━━━━━━━━━━━━━━━━━━\u001b[0m\u001b[37m\u001b[0m \u001b[1m21s\u001b[0m 10ms/step - accuracy: 0.7733 - loss: 0.7942 - val_accuracy: 0.6946 - val_loss: 1.1558\n",
            "Epoch 2/100\n",
            "\u001b[1m1446/1446\u001b[0m \u001b[32m━━━━━━━━━━━━━━━━━━━━\u001b[0m\u001b[37m\u001b[0m \u001b[1m10s\u001b[0m 7ms/step - accuracy: 0.9724 - loss: 0.0850 - val_accuracy: 0.7054 - val_loss: 1.2872\n",
            "Epoch 3/100\n",
            "\u001b[1m1446/1446\u001b[0m \u001b[32m━━━━━━━━━━━━━━━━━━━━\u001b[0m\u001b[37m\u001b[0m \u001b[1m10s\u001b[0m 7ms/step - accuracy: 0.9812 - loss: 0.0560 - val_accuracy: 0.7027 - val_loss: 1.5285\n",
            "Epoch 4/100\n",
            "\u001b[1m1446/1446\u001b[0m \u001b[32m━━━━━━━━━━━━━━━━━━━━\u001b[0m\u001b[37m\u001b[0m \u001b[1m10s\u001b[0m 7ms/step - accuracy: 0.9860 - loss: 0.0417 - val_accuracy: 0.7568 - val_loss: 1.0938\n",
            "Epoch 5/100\n",
            "\u001b[1m1446/1446\u001b[0m \u001b[32m━━━━━━━━━━━━━━━━━━━━\u001b[0m\u001b[37m\u001b[0m \u001b[1m10s\u001b[0m 7ms/step - accuracy: 0.9885 - loss: 0.0345 - val_accuracy: 0.7378 - val_loss: 1.4379\n",
            "Epoch 6/100\n",
            "\u001b[1m1446/1446\u001b[0m \u001b[32m━━━━━━━━━━━━━━━━━━━━\u001b[0m\u001b[37m\u001b[0m \u001b[1m9s\u001b[0m 6ms/step - accuracy: 0.9904 - loss: 0.0299 - val_accuracy: 0.7459 - val_loss: 1.3313\n",
            "Epoch 7/100\n",
            "\u001b[1m1446/1446\u001b[0m \u001b[32m━━━━━━━━━━━━━━━━━━━━\u001b[0m\u001b[37m\u001b[0m \u001b[1m10s\u001b[0m 6ms/step - accuracy: 0.9913 - loss: 0.0259 - val_accuracy: 0.7541 - val_loss: 1.3530\n",
            "Epoch 8/100\n",
            "\u001b[1m1446/1446\u001b[0m \u001b[32m━━━━━━━━━━━━━━━━━━━━\u001b[0m\u001b[37m\u001b[0m \u001b[1m10s\u001b[0m 7ms/step - accuracy: 0.9924 - loss: 0.0227 - val_accuracy: 0.7838 - val_loss: 1.1473\n",
            "Epoch 9/100\n",
            "\u001b[1m1446/1446\u001b[0m \u001b[32m━━━━━━━━━━━━━━━━━━━━\u001b[0m\u001b[37m\u001b[0m \u001b[1m10s\u001b[0m 7ms/step - accuracy: 0.9929 - loss: 0.0206 - val_accuracy: 0.7649 - val_loss: 1.3994\n",
            "Epoch 10/100\n",
            "\u001b[1m1446/1446\u001b[0m \u001b[32m━━━━━━━━━━━━━━━━━━━━\u001b[0m\u001b[37m\u001b[0m \u001b[1m9s\u001b[0m 6ms/step - accuracy: 0.9940 - loss: 0.0178 - val_accuracy: 0.7243 - val_loss: 1.8432\n",
            "Epoch 11/100\n",
            "\u001b[1m1446/1446\u001b[0m \u001b[32m━━━━━━━━━━━━━━━━━━━━\u001b[0m\u001b[37m\u001b[0m \u001b[1m10s\u001b[0m 7ms/step - accuracy: 0.9943 - loss: 0.0175 - val_accuracy: 0.7622 - val_loss: 1.6895\n",
            "Epoch 12/100\n",
            "\u001b[1m1446/1446\u001b[0m \u001b[32m━━━━━━━━━━━━━━━━━━━━\u001b[0m\u001b[37m\u001b[0m \u001b[1m10s\u001b[0m 7ms/step - accuracy: 0.9948 - loss: 0.0154 - val_accuracy: 0.7703 - val_loss: 1.5446\n",
            "Epoch 13/100\n",
            "\u001b[1m1446/1446\u001b[0m \u001b[32m━━━━━━━━━━━━━━━━━━━━\u001b[0m\u001b[37m\u001b[0m \u001b[1m9s\u001b[0m 6ms/step - accuracy: 0.9951 - loss: 0.0141 - val_accuracy: 0.7838 - val_loss: 1.3697\n",
            "Epoch 14/100\n",
            "\u001b[1m1446/1446\u001b[0m \u001b[32m━━━━━━━━━━━━━━━━━━━━\u001b[0m\u001b[37m\u001b[0m \u001b[1m10s\u001b[0m 6ms/step - accuracy: 0.9953 - loss: 0.0134 - val_accuracy: 0.7568 - val_loss: 1.5306\n",
            "Epoch 15/100\n",
            "\u001b[1m1446/1446\u001b[0m \u001b[32m━━━━━━━━━━━━━━━━━━━━\u001b[0m\u001b[37m\u001b[0m \u001b[1m10s\u001b[0m 7ms/step - accuracy: 0.9952 - loss: 0.0139 - val_accuracy: 0.7405 - val_loss: 1.8601\n",
            "Epoch 16/100\n",
            "\u001b[1m1446/1446\u001b[0m \u001b[32m━━━━━━━━━━━━━━━━━━━━\u001b[0m\u001b[37m\u001b[0m \u001b[1m10s\u001b[0m 7ms/step - accuracy: 0.9960 - loss: 0.0117 - val_accuracy: 0.7324 - val_loss: 1.7403\n",
            "Epoch 17/100\n",
            "\u001b[1m1446/1446\u001b[0m \u001b[32m━━━━━━━━━━━━━━━━━━━━\u001b[0m\u001b[37m\u001b[0m \u001b[1m10s\u001b[0m 6ms/step - accuracy: 0.9957 - loss: 0.0126 - val_accuracy: 0.7757 - val_loss: 1.6449\n",
            "Epoch 18/100\n",
            "\u001b[1m1446/1446\u001b[0m \u001b[32m━━━━━━━━━━━━━━━━━━━━\u001b[0m\u001b[37m\u001b[0m \u001b[1m10s\u001b[0m 7ms/step - accuracy: 0.9962 - loss: 0.0113 - val_accuracy: 0.7757 - val_loss: 1.4510\n",
            "Epoch 19/100\n",
            "\u001b[1m1446/1446\u001b[0m \u001b[32m━━━━━━━━━━━━━━━━━━━━\u001b[0m\u001b[37m\u001b[0m \u001b[1m10s\u001b[0m 7ms/step - accuracy: 0.9964 - loss: 0.0103 - val_accuracy: 0.7514 - val_loss: 1.9427\n",
            "Epoch 20/100\n",
            "\u001b[1m1446/1446\u001b[0m \u001b[32m━━━━━━━━━━━━━━━━━━━━\u001b[0m\u001b[37m\u001b[0m \u001b[1m10s\u001b[0m 6ms/step - accuracy: 0.9968 - loss: 0.0094 - val_accuracy: 0.7541 - val_loss: 1.7742\n",
            "Epoch 21/100\n",
            "\u001b[1m1446/1446\u001b[0m \u001b[32m━━━━━━━━━━━━━━━━━━━━\u001b[0m\u001b[37m\u001b[0m \u001b[1m10s\u001b[0m 7ms/step - accuracy: 0.9964 - loss: 0.0099 - val_accuracy: 0.7676 - val_loss: 2.0281\n",
            "Epoch 22/100\n",
            "\u001b[1m1446/1446\u001b[0m \u001b[32m━━━━━━━━━━━━━━━━━━━━\u001b[0m\u001b[37m\u001b[0m \u001b[1m10s\u001b[0m 7ms/step - accuracy: 0.9969 - loss: 0.0093 - val_accuracy: 0.7541 - val_loss: 1.8964\n",
            "Epoch 23/100\n",
            "\u001b[1m1446/1446\u001b[0m \u001b[32m━━━━━━━━━━━━━━━━━━━━\u001b[0m\u001b[37m\u001b[0m \u001b[1m10s\u001b[0m 7ms/step - accuracy: 0.9968 - loss: 0.0091 - val_accuracy: 0.7541 - val_loss: 2.2816\n",
            "Epoch 24/100\n",
            "\u001b[1m1446/1446\u001b[0m \u001b[32m━━━━━━━━━━━━━━━━━━━━\u001b[0m\u001b[37m\u001b[0m \u001b[1m10s\u001b[0m 6ms/step - accuracy: 0.9971 - loss: 0.0092 - val_accuracy: 0.7486 - val_loss: 1.8969\n",
            "Epoch 25/100\n",
            "\u001b[1m1446/1446\u001b[0m \u001b[32m━━━━━━━━━━━━━━━━━━━━\u001b[0m\u001b[37m\u001b[0m \u001b[1m11s\u001b[0m 7ms/step - accuracy: 0.9971 - loss: 0.0082 - val_accuracy: 0.7838 - val_loss: 1.6323\n",
            "Epoch 26/100\n",
            "\u001b[1m1446/1446\u001b[0m \u001b[32m━━━━━━━━━━━━━━━━━━━━\u001b[0m\u001b[37m\u001b[0m \u001b[1m10s\u001b[0m 7ms/step - accuracy: 0.9969 - loss: 0.0095 - val_accuracy: 0.7595 - val_loss: 1.8214\n",
            "Epoch 27/100\n",
            "\u001b[1m1446/1446\u001b[0m \u001b[32m━━━━━━━━━━━━━━━━━━━━\u001b[0m\u001b[37m\u001b[0m \u001b[1m9s\u001b[0m 7ms/step - accuracy: 0.9972 - loss: 0.0086 - val_accuracy: 0.7432 - val_loss: 2.1162\n",
            "Epoch 28/100\n",
            "\u001b[1m1446/1446\u001b[0m \u001b[32m━━━━━━━━━━━━━━━━━━━━\u001b[0m\u001b[37m\u001b[0m \u001b[1m10s\u001b[0m 7ms/step - accuracy: 0.9972 - loss: 0.0086 - val_accuracy: 0.7568 - val_loss: 2.2614\n",
            "Epoch 29/100\n",
            "\u001b[1m1446/1446\u001b[0m \u001b[32m━━━━━━━━━━━━━━━━━━━━\u001b[0m\u001b[37m\u001b[0m \u001b[1m10s\u001b[0m 7ms/step - accuracy: 0.9970 - loss: 0.0085 - val_accuracy: 0.7649 - val_loss: 1.7146\n",
            "Epoch 30/100\n",
            "\u001b[1m1446/1446\u001b[0m \u001b[32m━━━━━━━━━━━━━━━━━━━━\u001b[0m\u001b[37m\u001b[0m \u001b[1m10s\u001b[0m 7ms/step - accuracy: 0.9973 - loss: 0.0079 - val_accuracy: 0.7568 - val_loss: 1.9150\n",
            "Epoch 31/100\n",
            "\u001b[1m1446/1446\u001b[0m \u001b[32m━━━━━━━━━━━━━━━━━━━━\u001b[0m\u001b[37m\u001b[0m \u001b[1m9s\u001b[0m 6ms/step - accuracy: 0.9975 - loss: 0.0074 - val_accuracy: 0.7811 - val_loss: 1.7278\n",
            "Epoch 32/100\n",
            "\u001b[1m1446/1446\u001b[0m \u001b[32m━━━━━━━━━━━━━━━━━━━━\u001b[0m\u001b[37m\u001b[0m \u001b[1m10s\u001b[0m 7ms/step - accuracy: 0.9976 - loss: 0.0075 - val_accuracy: 0.7703 - val_loss: 2.1720\n",
            "Epoch 33/100\n",
            "\u001b[1m1446/1446\u001b[0m \u001b[32m━━━━━━━━━━━━━━━━━━━━\u001b[0m\u001b[37m\u001b[0m \u001b[1m10s\u001b[0m 7ms/step - accuracy: 0.9974 - loss: 0.0088 - val_accuracy: 0.7784 - val_loss: 1.8699\n",
            "Epoch 34/100\n",
            "\u001b[1m1446/1446\u001b[0m \u001b[32m━━━━━━━━━━━━━━━━━━━━\u001b[0m\u001b[37m\u001b[0m \u001b[1m9s\u001b[0m 6ms/step - accuracy: 0.9977 - loss: 0.0066 - val_accuracy: 0.7973 - val_loss: 2.2111\n",
            "Epoch 35/100\n",
            "\u001b[1m1446/1446\u001b[0m \u001b[32m━━━━━━━━━━━━━━━━━━━━\u001b[0m\u001b[37m\u001b[0m \u001b[1m10s\u001b[0m 7ms/step - accuracy: 0.9977 - loss: 0.0072 - val_accuracy: 0.7622 - val_loss: 1.9838\n",
            "Epoch 36/100\n",
            "\u001b[1m1446/1446\u001b[0m \u001b[32m━━━━━━━━━━━━━━━━━━━━\u001b[0m\u001b[37m\u001b[0m \u001b[1m10s\u001b[0m 7ms/step - accuracy: 0.9979 - loss: 0.0062 - val_accuracy: 0.7595 - val_loss: 2.2178\n",
            "Epoch 37/100\n",
            "\u001b[1m1446/1446\u001b[0m \u001b[32m━━━━━━━━━━━━━━━━━━━━\u001b[0m\u001b[37m\u001b[0m \u001b[1m9s\u001b[0m 7ms/step - accuracy: 0.9974 - loss: 0.0080 - val_accuracy: 0.7676 - val_loss: 2.1445\n",
            "Epoch 38/100\n",
            "\u001b[1m1446/1446\u001b[0m \u001b[32m━━━━━━━━━━━━━━━━━━━━\u001b[0m\u001b[37m\u001b[0m \u001b[1m10s\u001b[0m 7ms/step - accuracy: 0.9978 - loss: 0.0069 - val_accuracy: 0.8000 - val_loss: 2.0207\n",
            "Epoch 39/100\n",
            "\u001b[1m1446/1446\u001b[0m \u001b[32m━━━━━━━━━━━━━━━━━━━━\u001b[0m\u001b[37m\u001b[0m \u001b[1m10s\u001b[0m 7ms/step - accuracy: 0.9983 - loss: 0.0054 - val_accuracy: 0.7568 - val_loss: 2.2167\n",
            "Epoch 40/100\n",
            "\u001b[1m1446/1446\u001b[0m \u001b[32m━━━━━━━━━━━━━━━━━━━━\u001b[0m\u001b[37m\u001b[0m \u001b[1m10s\u001b[0m 7ms/step - accuracy: 0.9978 - loss: 0.0066 - val_accuracy: 0.7541 - val_loss: 2.1087\n",
            "Epoch 41/100\n",
            "\u001b[1m1446/1446\u001b[0m \u001b[32m━━━━━━━━━━━━━━━━━━━━\u001b[0m\u001b[37m\u001b[0m \u001b[1m10s\u001b[0m 7ms/step - accuracy: 0.9983 - loss: 0.0053 - val_accuracy: 0.7703 - val_loss: 1.8386\n",
            "Epoch 42/100\n",
            "\u001b[1m1446/1446\u001b[0m \u001b[32m━━━━━━━━━━━━━━━━━━━━\u001b[0m\u001b[37m\u001b[0m \u001b[1m10s\u001b[0m 7ms/step - accuracy: 0.9981 - loss: 0.0060 - val_accuracy: 0.7811 - val_loss: 2.3471\n",
            "Epoch 43/100\n",
            "\u001b[1m1446/1446\u001b[0m \u001b[32m━━━━━━━━━━━━━━━━━━━━\u001b[0m\u001b[37m\u001b[0m \u001b[1m10s\u001b[0m 7ms/step - accuracy: 0.9981 - loss: 0.0055 - val_accuracy: 0.7946 - val_loss: 1.8936\n",
            "Epoch 44/100\n",
            "\u001b[1m1446/1446\u001b[0m \u001b[32m━━━━━━━━━━━━━━━━━━━━\u001b[0m\u001b[37m\u001b[0m \u001b[1m9s\u001b[0m 7ms/step - accuracy: 0.9980 - loss: 0.0063 - val_accuracy: 0.7838 - val_loss: 2.0940\n",
            "Epoch 45/100\n",
            "\u001b[1m1446/1446\u001b[0m \u001b[32m━━━━━━━━━━━━━━━━━━━━\u001b[0m\u001b[37m\u001b[0m \u001b[1m11s\u001b[0m 7ms/step - accuracy: 0.9979 - loss: 0.0067 - val_accuracy: 0.7784 - val_loss: 1.7227\n",
            "Epoch 46/100\n",
            "\u001b[1m1446/1446\u001b[0m \u001b[32m━━━━━━━━━━━━━━━━━━━━\u001b[0m\u001b[37m\u001b[0m \u001b[1m10s\u001b[0m 7ms/step - accuracy: 0.9983 - loss: 0.0047 - val_accuracy: 0.8162 - val_loss: 2.1074\n",
            "Epoch 47/100\n",
            "\u001b[1m1446/1446\u001b[0m \u001b[32m━━━━━━━━━━━━━━━━━━━━\u001b[0m\u001b[37m\u001b[0m \u001b[1m10s\u001b[0m 6ms/step - accuracy: 0.9981 - loss: 0.0061 - val_accuracy: 0.8027 - val_loss: 1.9703\n",
            "Epoch 48/100\n",
            "\u001b[1m1446/1446\u001b[0m \u001b[32m━━━━━━━━━━━━━━━━━━━━\u001b[0m\u001b[37m\u001b[0m \u001b[1m10s\u001b[0m 7ms/step - accuracy: 0.9984 - loss: 0.0045 - val_accuracy: 0.7703 - val_loss: 2.3523\n",
            "Epoch 49/100\n",
            "\u001b[1m1446/1446\u001b[0m \u001b[32m━━━━━━━━━━━━━━━━━━━━\u001b[0m\u001b[37m\u001b[0m \u001b[1m10s\u001b[0m 7ms/step - accuracy: 0.9980 - loss: 0.0059 - val_accuracy: 0.7811 - val_loss: 2.1461\n",
            "Epoch 50/100\n",
            "\u001b[1m1446/1446\u001b[0m \u001b[32m━━━━━━━━━━━━━━━━━━━━\u001b[0m\u001b[37m\u001b[0m \u001b[1m10s\u001b[0m 7ms/step - accuracy: 0.9983 - loss: 0.0054 - val_accuracy: 0.8000 - val_loss: 2.1541\n",
            "Epoch 51/100\n",
            "\u001b[1m1446/1446\u001b[0m \u001b[32m━━━━━━━━━━━━━━━━━━━━\u001b[0m\u001b[37m\u001b[0m \u001b[1m9s\u001b[0m 7ms/step - accuracy: 0.9987 - loss: 0.0049 - val_accuracy: 0.8243 - val_loss: 1.9079\n",
            "Epoch 52/100\n",
            "\u001b[1m1446/1446\u001b[0m \u001b[32m━━━━━━━━━━━━━━━━━━━━\u001b[0m\u001b[37m\u001b[0m \u001b[1m10s\u001b[0m 7ms/step - accuracy: 0.9980 - loss: 0.0062 - val_accuracy: 0.7838 - val_loss: 2.4225\n",
            "Epoch 53/100\n",
            "\u001b[1m1446/1446\u001b[0m \u001b[32m━━━━━━━━━━━━━━━━━━━━\u001b[0m\u001b[37m\u001b[0m \u001b[1m10s\u001b[0m 7ms/step - accuracy: 0.9983 - loss: 0.0055 - val_accuracy: 0.8027 - val_loss: 1.9821\n",
            "Epoch 54/100\n",
            "\u001b[1m1446/1446\u001b[0m \u001b[32m━━━━━━━━━━━━━━━━━━━━\u001b[0m\u001b[37m\u001b[0m \u001b[1m10s\u001b[0m 6ms/step - accuracy: 0.9985 - loss: 0.0049 - val_accuracy: 0.8027 - val_loss: 2.0767\n",
            "Epoch 55/100\n",
            "\u001b[1m1446/1446\u001b[0m \u001b[32m━━━━━━━━━━━━━━━━━━━━\u001b[0m\u001b[37m\u001b[0m \u001b[1m11s\u001b[0m 7ms/step - accuracy: 0.9985 - loss: 0.0048 - val_accuracy: 0.7973 - val_loss: 2.0744\n",
            "Epoch 56/100\n",
            "\u001b[1m1446/1446\u001b[0m \u001b[32m━━━━━━━━━━━━━━━━━━━━\u001b[0m\u001b[37m\u001b[0m \u001b[1m10s\u001b[0m 7ms/step - accuracy: 0.9983 - loss: 0.0051 - val_accuracy: 0.7919 - val_loss: 2.0211\n",
            "Epoch 57/100\n",
            "\u001b[1m1446/1446\u001b[0m \u001b[32m━━━━━━━━━━━━━━━━━━━━\u001b[0m\u001b[37m\u001b[0m \u001b[1m10s\u001b[0m 7ms/step - accuracy: 0.9986 - loss: 0.0041 - val_accuracy: 0.7892 - val_loss: 2.3739\n",
            "Epoch 58/100\n",
            "\u001b[1m1446/1446\u001b[0m \u001b[32m━━━━━━━━━━━━━━━━━━━━\u001b[0m\u001b[37m\u001b[0m \u001b[1m10s\u001b[0m 6ms/step - accuracy: 0.9984 - loss: 0.0054 - val_accuracy: 0.7865 - val_loss: 2.1590\n",
            "Epoch 59/100\n",
            "\u001b[1m1446/1446\u001b[0m \u001b[32m━━━━━━━━━━━━━━━━━━━━\u001b[0m\u001b[37m\u001b[0m \u001b[1m11s\u001b[0m 7ms/step - accuracy: 0.9984 - loss: 0.0050 - val_accuracy: 0.7459 - val_loss: 2.5766\n",
            "Epoch 60/100\n",
            "\u001b[1m1446/1446\u001b[0m \u001b[32m━━━━━━━━━━━━━━━━━━━━\u001b[0m\u001b[37m\u001b[0m \u001b[1m10s\u001b[0m 7ms/step - accuracy: 0.9986 - loss: 0.0051 - val_accuracy: 0.7568 - val_loss: 2.4553\n",
            "Epoch 61/100\n",
            "\u001b[1m1446/1446\u001b[0m \u001b[32m━━━━━━━━━━━━━━━━━━━━\u001b[0m\u001b[37m\u001b[0m \u001b[1m9s\u001b[0m 6ms/step - accuracy: 0.9984 - loss: 0.0052 - val_accuracy: 0.7865 - val_loss: 2.4195\n",
            "Epoch 62/100\n",
            "\u001b[1m1446/1446\u001b[0m \u001b[32m━━━━━━━━━━━━━━━━━━━━\u001b[0m\u001b[37m\u001b[0m \u001b[1m10s\u001b[0m 7ms/step - accuracy: 0.9985 - loss: 0.0052 - val_accuracy: 0.8000 - val_loss: 2.2432\n",
            "Epoch 63/100\n",
            "\u001b[1m1446/1446\u001b[0m \u001b[32m━━━━━━━━━━━━━━━━━━━━\u001b[0m\u001b[37m\u001b[0m \u001b[1m10s\u001b[0m 7ms/step - accuracy: 0.9986 - loss: 0.0041 - val_accuracy: 0.7892 - val_loss: 2.2803\n",
            "Epoch 64/100\n",
            "\u001b[1m1446/1446\u001b[0m \u001b[32m━━━━━━━━━━━━━━━━━━━━\u001b[0m\u001b[37m\u001b[0m \u001b[1m10s\u001b[0m 7ms/step - accuracy: 0.9983 - loss: 0.0053 - val_accuracy: 0.7946 - val_loss: 2.4346\n",
            "Epoch 65/100\n",
            "\u001b[1m1446/1446\u001b[0m \u001b[32m━━━━━━━━━━━━━━━━━━━━\u001b[0m\u001b[37m\u001b[0m \u001b[1m10s\u001b[0m 7ms/step - accuracy: 0.9986 - loss: 0.0043 - val_accuracy: 0.7919 - val_loss: 2.0033\n",
            "Epoch 66/100\n",
            "\u001b[1m1446/1446\u001b[0m \u001b[32m━━━━━━━━━━━━━━━━━━━━\u001b[0m\u001b[37m\u001b[0m \u001b[1m10s\u001b[0m 7ms/step - accuracy: 0.9982 - loss: 0.0057 - val_accuracy: 0.7649 - val_loss: 2.4629\n",
            "Epoch 67/100\n",
            "\u001b[1m1446/1446\u001b[0m \u001b[32m━━━━━━━━━━━━━━━━━━━━\u001b[0m\u001b[37m\u001b[0m \u001b[1m10s\u001b[0m 7ms/step - accuracy: 0.9986 - loss: 0.0043 - val_accuracy: 0.7703 - val_loss: 2.3116\n",
            "Epoch 68/100\n",
            "\u001b[1m1446/1446\u001b[0m \u001b[32m━━━━━━━━━━━━━━━━━━━━\u001b[0m\u001b[37m\u001b[0m \u001b[1m10s\u001b[0m 6ms/step - accuracy: 0.9986 - loss: 0.0048 - val_accuracy: 0.7676 - val_loss: 2.8036\n",
            "Epoch 69/100\n",
            "\u001b[1m1446/1446\u001b[0m \u001b[32m━━━━━━━━━━━━━━━━━━━━\u001b[0m\u001b[37m\u001b[0m \u001b[1m11s\u001b[0m 7ms/step - accuracy: 0.9986 - loss: 0.0048 - val_accuracy: 0.7568 - val_loss: 2.9143\n",
            "Epoch 70/100\n",
            "\u001b[1m1446/1446\u001b[0m \u001b[32m━━━━━━━━━━━━━━━━━━━━\u001b[0m\u001b[37m\u001b[0m \u001b[1m10s\u001b[0m 7ms/step - accuracy: 0.9985 - loss: 0.0048 - val_accuracy: 0.8432 - val_loss: 1.9393\n",
            "Epoch 71/100\n",
            "\u001b[1m1446/1446\u001b[0m \u001b[32m━━━━━━━━━━━━━━━━━━━━\u001b[0m\u001b[37m\u001b[0m \u001b[1m10s\u001b[0m 7ms/step - accuracy: 0.9989 - loss: 0.0043 - val_accuracy: 0.7784 - val_loss: 2.3521\n",
            "Epoch 72/100\n",
            "\u001b[1m1446/1446\u001b[0m \u001b[32m━━━━━━━━━━━━━━━━━━━━\u001b[0m\u001b[37m\u001b[0m \u001b[1m10s\u001b[0m 7ms/step - accuracy: 0.9987 - loss: 0.0046 - val_accuracy: 0.8622 - val_loss: 2.2231\n",
            "Epoch 73/100\n",
            "\u001b[1m1446/1446\u001b[0m \u001b[32m━━━━━━━━━━━━━━━━━━━━\u001b[0m\u001b[37m\u001b[0m \u001b[1m11s\u001b[0m 7ms/step - accuracy: 0.9986 - loss: 0.0050 - val_accuracy: 0.7892 - val_loss: 2.5861\n",
            "Epoch 74/100\n",
            "\u001b[1m1446/1446\u001b[0m \u001b[32m━━━━━━━━━━━━━━━━━━━━\u001b[0m\u001b[37m\u001b[0m \u001b[1m10s\u001b[0m 7ms/step - accuracy: 0.9984 - loss: 0.0056 - val_accuracy: 0.8027 - val_loss: 2.4602\n",
            "Epoch 75/100\n",
            "\u001b[1m1446/1446\u001b[0m \u001b[32m━━━━━━━━━━━━━━━━━━━━\u001b[0m\u001b[37m\u001b[0m \u001b[1m10s\u001b[0m 6ms/step - accuracy: 0.9988 - loss: 0.0042 - val_accuracy: 0.8081 - val_loss: 2.3956\n",
            "Epoch 76/100\n",
            "\u001b[1m1446/1446\u001b[0m \u001b[32m━━━━━━━━━━━━━━━━━━━━\u001b[0m\u001b[37m\u001b[0m \u001b[1m10s\u001b[0m 7ms/step - accuracy: 0.9987 - loss: 0.0052 - val_accuracy: 0.7514 - val_loss: 3.3505\n",
            "Epoch 77/100\n",
            "\u001b[1m1446/1446\u001b[0m \u001b[32m━━━━━━━━━━━━━━━━━━━━\u001b[0m\u001b[37m\u001b[0m \u001b[1m10s\u001b[0m 7ms/step - accuracy: 0.9987 - loss: 0.0039 - val_accuracy: 0.7649 - val_loss: 2.7768\n",
            "Epoch 78/100\n",
            "\u001b[1m1446/1446\u001b[0m \u001b[32m━━━━━━━━━━━━━━━━━━━━\u001b[0m\u001b[37m\u001b[0m \u001b[1m10s\u001b[0m 7ms/step - accuracy: 0.9987 - loss: 0.0042 - val_accuracy: 0.7865 - val_loss: 3.0380\n",
            "Epoch 79/100\n",
            "\u001b[1m1446/1446\u001b[0m \u001b[32m━━━━━━━━━━━━━━━━━━━━\u001b[0m\u001b[37m\u001b[0m \u001b[1m9s\u001b[0m 6ms/step - accuracy: 0.9987 - loss: 0.0042 - val_accuracy: 0.7676 - val_loss: 2.8669\n",
            "Epoch 80/100\n",
            "\u001b[1m1446/1446\u001b[0m \u001b[32m━━━━━━━━━━━━━━━━━━━━\u001b[0m\u001b[37m\u001b[0m \u001b[1m11s\u001b[0m 7ms/step - accuracy: 0.9988 - loss: 0.0039 - val_accuracy: 0.7892 - val_loss: 2.4043\n",
            "Epoch 81/100\n",
            "\u001b[1m1446/1446\u001b[0m \u001b[32m━━━━━━━━━━━━━━━━━━━━\u001b[0m\u001b[37m\u001b[0m \u001b[1m10s\u001b[0m 7ms/step - accuracy: 0.9983 - loss: 0.0055 - val_accuracy: 0.8027 - val_loss: 2.8650\n",
            "Epoch 82/100\n",
            "\u001b[1m1446/1446\u001b[0m \u001b[32m━━━━━━━━━━━━━━━━━━━━\u001b[0m\u001b[37m\u001b[0m \u001b[1m9s\u001b[0m 7ms/step - accuracy: 0.9987 - loss: 0.0042 - val_accuracy: 0.7838 - val_loss: 2.4416\n",
            "Epoch 83/100\n",
            "\u001b[1m1446/1446\u001b[0m \u001b[32m━━━━━━━━━━━━━━━━━━━━\u001b[0m\u001b[37m\u001b[0m \u001b[1m10s\u001b[0m 7ms/step - accuracy: 0.9989 - loss: 0.0034 - val_accuracy: 0.7757 - val_loss: 3.1384\n",
            "Epoch 84/100\n",
            "\u001b[1m1446/1446\u001b[0m \u001b[32m━━━━━━━━━━━━━━━━━━━━\u001b[0m\u001b[37m\u001b[0m \u001b[1m10s\u001b[0m 7ms/step - accuracy: 0.9984 - loss: 0.0055 - val_accuracy: 0.7973 - val_loss: 2.7901\n",
            "Epoch 85/100\n",
            "\u001b[1m1446/1446\u001b[0m \u001b[32m━━━━━━━━━━━━━━━━━━━━\u001b[0m\u001b[37m\u001b[0m \u001b[1m10s\u001b[0m 7ms/step - accuracy: 0.9988 - loss: 0.0039 - val_accuracy: 0.8000 - val_loss: 2.5755\n",
            "Epoch 86/100\n",
            "\u001b[1m1446/1446\u001b[0m \u001b[32m━━━━━━━━━━━━━━━━━━━━\u001b[0m\u001b[37m\u001b[0m \u001b[1m9s\u001b[0m 6ms/step - accuracy: 0.9987 - loss: 0.0045 - val_accuracy: 0.7946 - val_loss: 2.7280\n",
            "Epoch 87/100\n",
            "\u001b[1m1446/1446\u001b[0m \u001b[32m━━━━━━━━━━━━━━━━━━━━\u001b[0m\u001b[37m\u001b[0m \u001b[1m10s\u001b[0m 7ms/step - accuracy: 0.9989 - loss: 0.0037 - val_accuracy: 0.8081 - val_loss: 2.9979\n",
            "Epoch 88/100\n",
            "\u001b[1m1446/1446\u001b[0m \u001b[32m━━━━━━━━━━━━━━━━━━━━\u001b[0m\u001b[37m\u001b[0m \u001b[1m10s\u001b[0m 7ms/step - accuracy: 0.9986 - loss: 0.0054 - val_accuracy: 0.7784 - val_loss: 2.9500\n",
            "Epoch 89/100\n",
            "\u001b[1m1446/1446\u001b[0m \u001b[32m━━━━━━━━━━━━━━━━━━━━\u001b[0m\u001b[37m\u001b[0m \u001b[1m10s\u001b[0m 6ms/step - accuracy: 0.9987 - loss: 0.0042 - val_accuracy: 0.8000 - val_loss: 2.7816\n",
            "Epoch 90/100\n",
            "\u001b[1m1446/1446\u001b[0m \u001b[32m━━━━━━━━━━━━━━━━━━━━\u001b[0m\u001b[37m\u001b[0m \u001b[1m10s\u001b[0m 7ms/step - accuracy: 0.9987 - loss: 0.0041 - val_accuracy: 0.8189 - val_loss: 2.2451\n",
            "Epoch 91/100\n",
            "\u001b[1m1446/1446\u001b[0m \u001b[32m━━━━━━━━━━━━━━━━━━━━\u001b[0m\u001b[37m\u001b[0m \u001b[1m10s\u001b[0m 7ms/step - accuracy: 0.9987 - loss: 0.0043 - val_accuracy: 0.8081 - val_loss: 2.5761\n",
            "Epoch 92/100\n",
            "\u001b[1m1446/1446\u001b[0m \u001b[32m━━━━━━━━━━━━━━━━━━━━\u001b[0m\u001b[37m\u001b[0m \u001b[1m9s\u001b[0m 7ms/step - accuracy: 0.9988 - loss: 0.0040 - val_accuracy: 0.8243 - val_loss: 2.3729\n",
            "Epoch 93/100\n",
            "\u001b[1m1446/1446\u001b[0m \u001b[32m━━━━━━━━━━━━━━━━━━━━\u001b[0m\u001b[37m\u001b[0m \u001b[1m10s\u001b[0m 7ms/step - accuracy: 0.9988 - loss: 0.0042 - val_accuracy: 0.7459 - val_loss: 3.3916\n",
            "Epoch 94/100\n",
            "\u001b[1m1446/1446\u001b[0m \u001b[32m━━━━━━━━━━━━━━━━━━━━\u001b[0m\u001b[37m\u001b[0m \u001b[1m10s\u001b[0m 7ms/step - accuracy: 0.9989 - loss: 0.0041 - val_accuracy: 0.7811 - val_loss: 3.1260\n",
            "Epoch 95/100\n",
            "\u001b[1m1446/1446\u001b[0m \u001b[32m━━━━━━━━━━━━━━━━━━━━\u001b[0m\u001b[37m\u001b[0m \u001b[1m10s\u001b[0m 7ms/step - accuracy: 0.9985 - loss: 0.0055 - val_accuracy: 0.8054 - val_loss: 2.5449\n",
            "Epoch 96/100\n",
            "\u001b[1m1446/1446\u001b[0m \u001b[32m━━━━━━━━━━━━━━━━━━━━\u001b[0m\u001b[37m\u001b[0m \u001b[1m9s\u001b[0m 6ms/step - accuracy: 0.9989 - loss: 0.0033 - val_accuracy: 0.8000 - val_loss: 2.6579\n",
            "Epoch 97/100\n",
            "\u001b[1m1446/1446\u001b[0m \u001b[32m━━━━━━━━━━━━━━━━━━━━\u001b[0m\u001b[37m\u001b[0m \u001b[1m10s\u001b[0m 7ms/step - accuracy: 0.9988 - loss: 0.0048 - val_accuracy: 0.8081 - val_loss: 2.6464\n",
            "Epoch 98/100\n",
            "\u001b[1m1446/1446\u001b[0m \u001b[32m━━━━━━━━━━━━━━━━━━━━\u001b[0m\u001b[37m\u001b[0m \u001b[1m10s\u001b[0m 7ms/step - accuracy: 0.9989 - loss: 0.0032 - val_accuracy: 0.8135 - val_loss: 2.4624\n",
            "Epoch 99/100\n",
            "\u001b[1m1446/1446\u001b[0m \u001b[32m━━━━━━━━━━━━━━━━━━━━\u001b[0m\u001b[37m\u001b[0m \u001b[1m10s\u001b[0m 6ms/step - accuracy: 0.9988 - loss: 0.0044 - val_accuracy: 0.7703 - val_loss: 2.9826\n",
            "Epoch 100/100\n",
            "\u001b[1m1446/1446\u001b[0m \u001b[32m━━━━━━━━━━━━━━━━━━━━\u001b[0m\u001b[37m\u001b[0m \u001b[1m10s\u001b[0m 7ms/step - accuracy: 0.9986 - loss: 0.0048 - val_accuracy: 0.8135 - val_loss: 2.5398\n"
          ]
        }
      ]
    },
    {
      "cell_type": "code",
      "source": [
        "import numpy as np\n",
        "from sklearn.metrics import classification_report, confusion_matrix\n",
        "\n",
        "# Evaluate the model on test data\n",
        "test_loss, test_accuracy = model.evaluate(aug_test_data, aug_test_labels, verbose=1)\n",
        "print(f\"Test Loss: {test_loss}\")\n",
        "print(f\"Test Accuracy: {test_accuracy}\")\n",
        "\n",
        "# Generate predictions\n",
        "predictions = model.predict(aug_test_data)\n",
        "predicted_classes = np.argmax(predictions, axis=1)\n",
        "true_classes = np.argmax(aug_test_labels, axis=1)\n",
        "# Generate a classification report\n",
        "print(\"Classification Report:\")\n",
        "print(classification_report(true_classes, predicted_classes))\n",
        "\n",
        "# Display a confusion matrix\n",
        "print(\"Confusion Matrix:\")\n",
        "print(confusion_matrix(true_classes, predicted_classes))\n",
        "\n",
        "\n"
      ],
      "metadata": {
        "colab": {
          "base_uri": "https://localhost:8080/"
        },
        "id": "xIHeMgo5Jltq",
        "outputId": "94440821-8572-4d39-97bd-a9bf66d54373"
      },
      "execution_count": 12,
      "outputs": [
        {
          "output_type": "stream",
          "name": "stdout",
          "text": [
            "\u001b[1m24/24\u001b[0m \u001b[32m━━━━━━━━━━━━━━━━━━━━\u001b[0m\u001b[37m\u001b[0m \u001b[1m2s\u001b[0m 32ms/step - accuracy: 0.7948 - loss: 3.6887\n",
            "Test Loss: 3.630288600921631\n",
            "Test Accuracy: 0.795945942401886\n",
            "\u001b[1m24/24\u001b[0m \u001b[32m━━━━━━━━━━━━━━━━━━━━\u001b[0m\u001b[37m\u001b[0m \u001b[1m1s\u001b[0m 12ms/step\n",
            "Classification Report:\n",
            "              precision    recall  f1-score   support\n",
            "\n",
            "           0       0.36      0.70      0.47        20\n",
            "           1       0.48      1.00      0.65        20\n",
            "           2       1.00      0.40      0.57        20\n",
            "           3       0.15      0.20      0.17        20\n",
            "           4       1.00      1.00      1.00        20\n",
            "           5       1.00      0.85      0.92        20\n",
            "           6       0.47      0.35      0.40        20\n",
            "           7       1.00      0.60      0.75        20\n",
            "           8       1.00      1.00      1.00        20\n",
            "           9       0.95      1.00      0.98        20\n",
            "          10       1.00      0.90      0.95        20\n",
            "          11       0.91      1.00      0.95        20\n",
            "          12       0.80      1.00      0.89        20\n",
            "          13       0.55      0.90      0.68        20\n",
            "          14       1.00      1.00      1.00        20\n",
            "          15       1.00      1.00      1.00        20\n",
            "          16       0.00      0.00      0.00        20\n",
            "          17       1.00      0.80      0.89        20\n",
            "          18       0.90      0.95      0.93        20\n",
            "          19       0.95      1.00      0.98        20\n",
            "          20       0.95      1.00      0.98        20\n",
            "          21       1.00      1.00      1.00        20\n",
            "          22       1.00      1.00      1.00        20\n",
            "          23       1.00      0.20      0.33        20\n",
            "          24       0.86      0.60      0.71        20\n",
            "          25       0.91      1.00      0.95        20\n",
            "          26       0.50      0.30      0.38        20\n",
            "          27       1.00      1.00      1.00        20\n",
            "          28       1.00      1.00      1.00        20\n",
            "          29       0.83      1.00      0.91        20\n",
            "          30       0.95      1.00      0.98        20\n",
            "          31       0.80      0.80      0.80        20\n",
            "          32       0.71      1.00      0.83        20\n",
            "          33       0.57      0.80      0.67        20\n",
            "          34       1.00      0.15      0.26        20\n",
            "          35       0.79      0.95      0.86        20\n",
            "          36       1.00      1.00      1.00        20\n",
            "\n",
            "    accuracy                           0.80       740\n",
            "   macro avg       0.82      0.80      0.78       740\n",
            "weighted avg       0.82      0.80      0.78       740\n",
            "\n",
            "Confusion Matrix:\n",
            "[[14  0  0 ...  0  0  0]\n",
            " [ 0 20  0 ...  0  0  0]\n",
            " [ 4  0  8 ...  0  0  0]\n",
            " ...\n",
            " [ 1  0  0 ...  3  0  0]\n",
            " [ 0  0  0 ...  0 19  0]\n",
            " [ 0  0  0 ...  0  0 20]]\n"
          ]
        }
      ]
    },
    {
      "cell_type": "code",
      "source": [
        "model.export(\"saved_model\")"
      ],
      "metadata": {
        "colab": {
          "base_uri": "https://localhost:8080/"
        },
        "id": "-fMLAiOf90RX",
        "outputId": "f77bf95c-dcd5-4667-dce7-288ae5399efb"
      },
      "execution_count": 13,
      "outputs": [
        {
          "output_type": "stream",
          "name": "stdout",
          "text": [
            "Saved artifact at 'saved_model'. The following endpoints are available:\n",
            "\n",
            "* Endpoint 'serve'\n",
            "  args_0 (POSITIONAL_ONLY): TensorSpec(shape=(None, 30, 30, 1), dtype=tf.float32, name='keras_tensor')\n",
            "Output Type:\n",
            "  TensorSpec(shape=(None, 37), dtype=tf.float32, name=None)\n",
            "Captures:\n",
            "  134924706109520: TensorSpec(shape=(), dtype=tf.resource, name=None)\n",
            "  134924706109712: TensorSpec(shape=(), dtype=tf.resource, name=None)\n",
            "  134924706110288: TensorSpec(shape=(), dtype=tf.resource, name=None)\n",
            "  134924706110672: TensorSpec(shape=(), dtype=tf.resource, name=None)\n",
            "  134924686571856: TensorSpec(shape=(), dtype=tf.resource, name=None)\n",
            "  134924686572432: TensorSpec(shape=(), dtype=tf.resource, name=None)\n",
            "  134924686572624: TensorSpec(shape=(), dtype=tf.resource, name=None)\n",
            "  134924686573200: TensorSpec(shape=(), dtype=tf.resource, name=None)\n"
          ]
        }
      ]
    },
    {
      "cell_type": "code",
      "source": [
        "!zip -r model.zip saved_model/\n"
      ],
      "metadata": {
        "colab": {
          "base_uri": "https://localhost:8080/"
        },
        "id": "3LX3QPVKjDcK",
        "outputId": "bd447bf8-7e57-4ae1-ec09-58be9dc17318"
      },
      "execution_count": 14,
      "outputs": [
        {
          "output_type": "stream",
          "name": "stdout",
          "text": [
            "  adding: saved_model/ (stored 0%)\n",
            "  adding: saved_model/assets/ (stored 0%)\n",
            "  adding: saved_model/fingerprint.pb (stored 0%)\n",
            "  adding: saved_model/saved_model.pb (deflated 85%)\n",
            "  adding: saved_model/variables/ (stored 0%)\n",
            "  adding: saved_model/variables/variables.index (deflated 61%)\n",
            "  adding: saved_model/variables/variables.data-00000-of-00001 (deflated 7%)\n"
          ]
        }
      ]
    },
    {
      "cell_type": "code",
      "source": [
        "from google.colab import files\n",
        "files.download('model.zip')"
      ],
      "metadata": {
        "id": "w3HeJItSjMBJ",
        "outputId": "3fd98d06-6701-424a-c38a-ae62b21b3e33",
        "colab": {
          "base_uri": "https://localhost:8080/",
          "height": 17
        }
      },
      "execution_count": 15,
      "outputs": [
        {
          "output_type": "display_data",
          "data": {
            "text/plain": [
              "<IPython.core.display.Javascript object>"
            ],
            "application/javascript": [
              "\n",
              "    async function download(id, filename, size) {\n",
              "      if (!google.colab.kernel.accessAllowed) {\n",
              "        return;\n",
              "      }\n",
              "      const div = document.createElement('div');\n",
              "      const label = document.createElement('label');\n",
              "      label.textContent = `Downloading \"${filename}\": `;\n",
              "      div.appendChild(label);\n",
              "      const progress = document.createElement('progress');\n",
              "      progress.max = size;\n",
              "      div.appendChild(progress);\n",
              "      document.body.appendChild(div);\n",
              "\n",
              "      const buffers = [];\n",
              "      let downloaded = 0;\n",
              "\n",
              "      const channel = await google.colab.kernel.comms.open(id);\n",
              "      // Send a message to notify the kernel that we're ready.\n",
              "      channel.send({})\n",
              "\n",
              "      for await (const message of channel.messages) {\n",
              "        // Send a message to notify the kernel that we're ready.\n",
              "        channel.send({})\n",
              "        if (message.buffers) {\n",
              "          for (const buffer of message.buffers) {\n",
              "            buffers.push(buffer);\n",
              "            downloaded += buffer.byteLength;\n",
              "            progress.value = downloaded;\n",
              "          }\n",
              "        }\n",
              "      }\n",
              "      const blob = new Blob(buffers, {type: 'application/binary'});\n",
              "      const a = document.createElement('a');\n",
              "      a.href = window.URL.createObjectURL(blob);\n",
              "      a.download = filename;\n",
              "      div.appendChild(a);\n",
              "      a.click();\n",
              "      div.remove();\n",
              "    }\n",
              "  "
            ]
          },
          "metadata": {}
        },
        {
          "output_type": "display_data",
          "data": {
            "text/plain": [
              "<IPython.core.display.Javascript object>"
            ],
            "application/javascript": [
              "download(\"download_54795f24-c745-434f-8c06-b10edf30ca6a\", \"model.zip\", 10537286)"
            ]
          },
          "metadata": {}
        }
      ]
    },
    {
      "cell_type": "code",
      "source": [
        "import matplotlib.pyplot as plt\n",
        "\n",
        "# Plot Accuracy\n",
        "plt.plot(history.history['accuracy'], label='Training Accuracy')\n",
        "plt.plot(history.history['val_accuracy'], label='Validation Accuracy')\n",
        "plt.xlabel('Epochs')\n",
        "plt.ylabel('Accuracy')\n",
        "plt.title('Model Accuracy')\n",
        "plt.legend()\n",
        "plt.show()\n",
        "\n",
        "# Plot Loss\n",
        "plt.plot(history.history['loss'], label='Training Loss')\n",
        "plt.plot(history.history['val_loss'], label='Validation Loss')\n",
        "plt.xlabel('Epochs')\n",
        "plt.ylabel('Loss')\n",
        "plt.title('Model Loss')\n",
        "plt.legend()\n",
        "plt.show()\n"
      ],
      "metadata": {
        "id": "GhbnvUT1m9GX",
        "colab": {
          "base_uri": "https://localhost:8080/",
          "height": 927
        },
        "outputId": "26d709f7-276d-4865-a85f-04cca7a2b32a"
      },
      "execution_count": 16,
      "outputs": [
        {
          "output_type": "display_data",
          "data": {
            "text/plain": [
              "<Figure size 640x480 with 1 Axes>"
            ],
            "image/png": "[encoded data removed]"
          },
          "metadata": {}
        },
        {
          "output_type": "display_data",
          "data": {
            "text/plain": [
              "<Figure size 640x480 with 1 Axes>"
            ],
            "image/png": "[encoded data removed]"
          },
          "metadata": {}
        }
      ]
    }
  ]
}